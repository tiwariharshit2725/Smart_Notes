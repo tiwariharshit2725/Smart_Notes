{
  "cells": [
    {
      "cell_type": "code",
      "source": [
        "from google.colab import drive\n",
        "drive.mount('/content/drive')"
      ],
      "metadata": {
        "id": "v3XX0f7uzeC4",
        "colab": {
          "base_uri": "https://localhost:8080/"
        },
        "outputId": "8496c647-0db8-4968-abc0-37848c48bde7"
      },
      "id": "v3XX0f7uzeC4",
      "execution_count": 1,
      "outputs": [
        {
          "output_type": "stream",
          "name": "stdout",
          "text": [
            "Mounted at /content/drive\n"
          ]
        }
      ]
    },
    {
      "cell_type": "code",
      "execution_count": 2,
      "id": "cf889aab",
      "metadata": {
        "id": "cf889aab",
        "colab": {
          "base_uri": "https://localhost:8080/"
        },
        "outputId": "284ca425-c69f-4c79-e514-2217de19cd9b"
      },
      "outputs": [
        {
          "output_type": "stream",
          "name": "stdout",
          "text": [
            "Looking in indexes: https://pypi.org/simple, https://us-python.pkg.dev/colab-wheels/public/simple/\n",
            "Collecting pytube\n",
            "  Downloading pytube-12.1.0-py3-none-any.whl (56 kB)\n",
            "\u001b[K     |████████████████████████████████| 56 kB 4.1 MB/s \n",
            "\u001b[?25hInstalling collected packages: pytube\n",
            "Successfully installed pytube-12.1.0\n"
          ]
        }
      ],
      "source": [
        "pip install pytube"
      ]
    },
    {
      "cell_type": "code",
      "execution_count": 17,
      "id": "77ff5e9b",
      "metadata": {
        "id": "77ff5e9b"
      },
      "outputs": [],
      "source": [
        "import pytube\n",
        "import os\n",
        "link=\"https://www.youtube.com/watch?v=b61DPVFX03I&ab_channel=IBMTechnology\"\n",
        "yt = pytube.YouTube(link)\n",
        "stream = yt.streams.get_highest_resolution()\n",
        "a=stream.download(r\"C:\\Users\\91854\\OneDrive\\Desktop\\self\")\n",
        "os.rename(a,\"youtube_video2.3gpp\")"
      ]
    },
    {
      "cell_type": "code",
      "execution_count": 17,
      "id": "b6a5f48a",
      "metadata": {
        "id": "b6a5f48a"
      },
      "outputs": [],
      "source": [
        ""
      ]
    },
    {
      "cell_type": "code",
      "execution_count": 17,
      "id": "0bdb9f21",
      "metadata": {
        "id": "0bdb9f21"
      },
      "outputs": [],
      "source": [
        ""
      ]
    },
    {
      "cell_type": "code",
      "execution_count": 18,
      "id": "2510ec43",
      "metadata": {
        "id": "2510ec43",
        "colab": {
          "base_uri": "https://localhost:8080/"
        },
        "outputId": "460961ac-caf5-4ad9-f79b-a295d1cca4e3"
      },
      "outputs": [
        {
          "output_type": "stream",
          "name": "stdout",
          "text": [
            "Looking in indexes: https://pypi.org/simple, https://us-python.pkg.dev/colab-wheels/public/simple/\n",
            "Requirement already satisfied: ffmpeg in /usr/local/lib/python3.7/dist-packages (1.4)\n",
            "Requirement already satisfied: moviepy in /usr/local/lib/python3.7/dist-packages (0.2.3.5)\n",
            "Requirement already satisfied: imageio<3.0,>=2.1.2 in /usr/local/lib/python3.7/dist-packages (from moviepy) (2.4.1)\n",
            "Requirement already satisfied: tqdm<5.0,>=4.11.2 in /usr/local/lib/python3.7/dist-packages (from moviepy) (4.64.0)\n",
            "Requirement already satisfied: numpy in /usr/local/lib/python3.7/dist-packages (from moviepy) (1.21.6)\n",
            "Requirement already satisfied: decorator<5.0,>=4.0.2 in /usr/local/lib/python3.7/dist-packages (from moviepy) (4.4.2)\n",
            "Requirement already satisfied: pillow in /usr/local/lib/python3.7/dist-packages (from imageio<3.0,>=2.1.2->moviepy) (7.1.2)\n"
          ]
        }
      ],
      "source": [
        "pip install ffmpeg moviepy"
      ]
    },
    {
      "cell_type": "code",
      "execution_count": 19,
      "id": "803d8183",
      "metadata": {
        "id": "803d8183"
      },
      "outputs": [],
      "source": [
        "import moviepy.editor as mp"
      ]
    },
    {
      "cell_type": "code",
      "execution_count": 20,
      "id": "f3152730",
      "metadata": {
        "id": "f3152730"
      },
      "outputs": [],
      "source": [
        "my_clip = mp.VideoFileClip(\"/content/youtube_video2.3gpp\")"
      ]
    },
    {
      "cell_type": "code",
      "execution_count": 21,
      "id": "ddd6660e",
      "metadata": {
        "id": "ddd6660e",
        "colab": {
          "base_uri": "https://localhost:8080/"
        },
        "outputId": "6b2dcf80-b1f2-4a20-88e4-e06a618f35e7"
      },
      "outputs": [
        {
          "output_type": "stream",
          "name": "stdout",
          "text": [
            "[MoviePy] Writing audio in my_result.wav\n"
          ]
        },
        {
          "output_type": "stream",
          "name": "stderr",
          "text": [
            "100%|██████████| 10998/10998 [00:05<00:00, 2040.43it/s]\n"
          ]
        },
        {
          "output_type": "stream",
          "name": "stdout",
          "text": [
            "[MoviePy] Done.\n"
          ]
        }
      ],
      "source": [
        "my_clip.audio.write_audiofile(r\"my_result.wav\")"
      ]
    },
    {
      "cell_type": "code",
      "execution_count": 21,
      "id": "b7dcfa7e",
      "metadata": {
        "id": "b7dcfa7e"
      },
      "outputs": [],
      "source": [
        ""
      ]
    },
    {
      "cell_type": "code",
      "execution_count": 21,
      "id": "e2e43f39",
      "metadata": {
        "id": "e2e43f39"
      },
      "outputs": [],
      "source": [
        ""
      ]
    },
    {
      "cell_type": "code",
      "execution_count": 22,
      "id": "20ea036a",
      "metadata": {
        "id": "20ea036a",
        "colab": {
          "base_uri": "https://localhost:8080/"
        },
        "outputId": "5541e88d-15eb-4c4a-9ef5-a01be899ac70"
      },
      "outputs": [
        {
          "output_type": "stream",
          "name": "stdout",
          "text": [
            "frames read: 21994434 length: 87977736\n"
          ]
        }
      ],
      "source": [
        "import wave\n",
        "import audioop\n",
        "\n",
        "inFileName = 'my_result.wav'\n",
        "outFileName = 'my_result-Mono.wav'\n",
        "\n",
        "# read input file and write mono output file\n",
        "try:\n",
        "    # open the input and output files\n",
        "    inFile = wave.open(inFileName,'rb')\n",
        "    outFile = wave.open(outFileName,'wb')\n",
        "    # force mono\n",
        "    outFile.setnchannels(1)\n",
        "    # set output file like the input file\n",
        "    outFile.setsampwidth(inFile.getsampwidth())\n",
        "    outFile.setframerate(inFile.getframerate())\n",
        "    # read\n",
        "    soundBytes = inFile.readframes(inFile.getnframes())\n",
        "    print(\"frames read: {} length: {}\".format(inFile.getnframes(),len(soundBytes)))\n",
        "    # convert to mono and write file\n",
        "    monoSoundBytes = audioop.tomono(soundBytes, inFile.getsampwidth(), 1, 1)\n",
        "    outFile.writeframes(monoSoundBytes)\n",
        "    \n",
        "except Exception as e:\n",
        "    print(e)\n",
        "    \n",
        "finally:\n",
        "    inFile.close()\n",
        "    outFile.close()"
      ]
    },
    {
      "cell_type": "code",
      "execution_count": 22,
      "id": "00b90bca",
      "metadata": {
        "id": "00b90bca"
      },
      "outputs": [],
      "source": [
        ""
      ]
    },
    {
      "cell_type": "code",
      "execution_count": 22,
      "id": "83f6d4cc",
      "metadata": {
        "id": "83f6d4cc"
      },
      "outputs": [],
      "source": [
        ""
      ]
    },
    {
      "cell_type": "code",
      "execution_count": 23,
      "id": "3d858736",
      "metadata": {
        "id": "3d858736",
        "colab": {
          "base_uri": "https://localhost:8080/"
        },
        "outputId": "1d0fddbf-ce54-49d3-cabe-b4f984e3a3e0"
      },
      "outputs": [
        {
          "output_type": "stream",
          "name": "stdout",
          "text": [
            "Looking in indexes: https://pypi.org/simple, https://us-python.pkg.dev/colab-wheels/public/simple/\n",
            "Requirement already satisfied: vosk in /usr/local/lib/python3.7/dist-packages (0.3.42)\n",
            "Requirement already satisfied: requests in /usr/local/lib/python3.7/dist-packages (from vosk) (2.23.0)\n",
            "Requirement already satisfied: tqdm in /usr/local/lib/python3.7/dist-packages (from vosk) (4.64.0)\n",
            "Requirement already satisfied: srt in /usr/local/lib/python3.7/dist-packages (from vosk) (3.5.2)\n",
            "Requirement already satisfied: cffi>=1.0 in /usr/local/lib/python3.7/dist-packages (from vosk) (1.15.0)\n",
            "Requirement already satisfied: pycparser in /usr/local/lib/python3.7/dist-packages (from cffi>=1.0->vosk) (2.21)\n",
            "Requirement already satisfied: chardet<4,>=3.0.2 in /usr/local/lib/python3.7/dist-packages (from requests->vosk) (3.0.4)\n",
            "Requirement already satisfied: idna<3,>=2.5 in /usr/local/lib/python3.7/dist-packages (from requests->vosk) (2.10)\n",
            "Requirement already satisfied: certifi>=2017.4.17 in /usr/local/lib/python3.7/dist-packages (from requests->vosk) (2022.6.15)\n",
            "Requirement already satisfied: urllib3!=1.25.0,!=1.25.1,<1.26,>=1.21.1 in /usr/local/lib/python3.7/dist-packages (from requests->vosk) (1.24.3)\n"
          ]
        }
      ],
      "source": [
        "pip install vosk"
      ]
    },
    {
      "cell_type": "code",
      "source": [
        "language=input(\"please give language : \" )"
      ],
      "metadata": {
        "id": "rsA0_miW3kiU",
        "colab": {
          "base_uri": "https://localhost:8080/"
        },
        "outputId": "1ab9ce5d-fc2a-4888-b499-78760083864d"
      },
      "id": "rsA0_miW3kiU",
      "execution_count": 24,
      "outputs": [
        {
          "name": "stdout",
          "output_type": "stream",
          "text": [
            "please give language : english\n"
          ]
        }
      ]
    },
    {
      "cell_type": "code",
      "execution_count": 25,
      "id": "31180671",
      "metadata": {
        "id": "31180671"
      },
      "outputs": [],
      "source": [
        "from vosk import Model, KaldiRecognizer\n",
        "import wave\n",
        "import json\n",
        "\n",
        "'''\n",
        "this script reads a mono wav file (inFileName) and writes out a json file (outfileResults) with the speech to text conversion results.  It then writes out another json file (outfileText) that only has the \"text\" values.\n",
        "'''\n",
        "\n",
        "inFileName = 'my_result-Mono.wav'\n",
        "outfileResults = 'Results.json'\n",
        "outfileText = 'Text.json'\n",
        "\n",
        "wf = wave.open(inFileName, \"rb\")\n",
        "\n",
        "# initialize a str to hold results\n",
        "results = \"\"\n",
        "textResults = []\n",
        "\n",
        "# build the model and recognizer objects.\n",
        "if language==\"english\":\n",
        "  model = Model(\"/content/drive/MyDrive/Indian_English_Model\")\n",
        "elif language==\"hindi\":\n",
        "  model = Model(\"/content/drive/MyDrive/Indian_Hindi_Model\")\n",
        "recognizer = KaldiRecognizer(model, wf.getframerate())\n",
        "recognizer.SetWords(True)\n",
        "\n",
        "while True:\n",
        "    data = wf.readframes(4000)\n",
        "    if len(data) == 0:\n",
        "        break\n",
        "    if recognizer.AcceptWaveform(data):\n",
        "        recognizerResult = recognizer.Result()\n",
        "        results = results + recognizerResult\n",
        "        # convert the recognizerResult string into a dictionary  \n",
        "        resultDict = json.loads(recognizerResult)\n",
        "        # save the 'text' value from the dictionary into a list\n",
        "        textResults.append(resultDict.get(\"text\", \"\"))\n",
        "\n",
        "##    else:\n",
        "##        print(recognizer.PartialResult())\n",
        "        \n",
        "# process \"final\" result\n",
        "results = results + recognizer.FinalResult()\n",
        "resultDict = json.loads(recognizer.FinalResult())\n",
        "textResults.append(resultDict.get(\"text\", \"\"))\n",
        "\n",
        "# write results to a file\n",
        "with open(outfileResults, 'w') as output:\n",
        "    print(results, file=output)\n",
        "\n",
        "# write text portion of results to a file\n",
        "with open(outfileText, 'w') as output:\n",
        "    print(json.dumps(textResults, indent=4), file=output)"
      ]
    },
    {
      "cell_type": "code",
      "execution_count": 25,
      "id": "db8401eb",
      "metadata": {
        "id": "db8401eb"
      },
      "outputs": [],
      "source": [
        ""
      ]
    },
    {
      "cell_type": "code",
      "execution_count": 25,
      "id": "7874a0fa",
      "metadata": {
        "id": "7874a0fa"
      },
      "outputs": [],
      "source": [
        ""
      ]
    },
    {
      "cell_type": "code",
      "execution_count": 26,
      "id": "b86a5c5f",
      "metadata": {
        "id": "b86a5c5f"
      },
      "outputs": [],
      "source": [
        "import pandas as pd\n",
        "import numpy as np"
      ]
    },
    {
      "cell_type": "code",
      "execution_count": 27,
      "id": "75183ba3",
      "metadata": {
        "id": "75183ba3",
        "colab": {
          "base_uri": "https://localhost:8080/",
          "height": 423
        },
        "outputId": "4ad1e3cd-6baf-482d-ebed-9e76584e9f4c"
      },
      "outputs": [
        {
          "output_type": "execute_result",
          "data": {
            "text/plain": [
              "                                                     0\n",
              "0                                     a murder mystery\n",
              "1                                the load of the manor\n",
              "2                       and your task is to figure out\n",
              "3                                                night\n",
              "4                                                  but\n",
              "..                                                 ...\n",
              "117                                and we also applied\n",
              "118  we won first prize by having a forecast that y...\n",
              "119                                     was so popular\n",
              "120       if you have any questions please drop a line\n",
              "121                                                   \n",
              "\n",
              "[122 rows x 1 columns]"
            ],
            "text/html": [
              "\n",
              "  <div id=\"df-f40243e2-c93b-4929-bc71-938bc084f504\">\n",
              "    <div class=\"colab-df-container\">\n",
              "      <div>\n",
              "<style scoped>\n",
              "    .dataframe tbody tr th:only-of-type {\n",
              "        vertical-align: middle;\n",
              "    }\n",
              "\n",
              "    .dataframe tbody tr th {\n",
              "        vertical-align: top;\n",
              "    }\n",
              "\n",
              "    .dataframe thead th {\n",
              "        text-align: right;\n",
              "    }\n",
              "</style>\n",
              "<table border=\"1\" class=\"dataframe\">\n",
              "  <thead>\n",
              "    <tr style=\"text-align: right;\">\n",
              "      <th></th>\n",
              "      <th>0</th>\n",
              "    </tr>\n",
              "  </thead>\n",
              "  <tbody>\n",
              "    <tr>\n",
              "      <th>0</th>\n",
              "      <td>a murder mystery</td>\n",
              "    </tr>\n",
              "    <tr>\n",
              "      <th>1</th>\n",
              "      <td>the load of the manor</td>\n",
              "    </tr>\n",
              "    <tr>\n",
              "      <th>2</th>\n",
              "      <td>and your task is to figure out</td>\n",
              "    </tr>\n",
              "    <tr>\n",
              "      <th>3</th>\n",
              "      <td>night</td>\n",
              "    </tr>\n",
              "    <tr>\n",
              "      <th>4</th>\n",
              "      <td>but</td>\n",
              "    </tr>\n",
              "    <tr>\n",
              "      <th>...</th>\n",
              "      <td>...</td>\n",
              "    </tr>\n",
              "    <tr>\n",
              "      <th>117</th>\n",
              "      <td>and we also applied</td>\n",
              "    </tr>\n",
              "    <tr>\n",
              "      <th>118</th>\n",
              "      <td>we won first prize by having a forecast that y...</td>\n",
              "    </tr>\n",
              "    <tr>\n",
              "      <th>119</th>\n",
              "      <td>was so popular</td>\n",
              "    </tr>\n",
              "    <tr>\n",
              "      <th>120</th>\n",
              "      <td>if you have any questions please drop a line</td>\n",
              "    </tr>\n",
              "    <tr>\n",
              "      <th>121</th>\n",
              "      <td></td>\n",
              "    </tr>\n",
              "  </tbody>\n",
              "</table>\n",
              "<p>122 rows × 1 columns</p>\n",
              "</div>\n",
              "      <button class=\"colab-df-convert\" onclick=\"convertToInteractive('df-f40243e2-c93b-4929-bc71-938bc084f504')\"\n",
              "              title=\"Convert this dataframe to an interactive table.\"\n",
              "              style=\"display:none;\">\n",
              "        \n",
              "  <svg xmlns=\"http://www.w3.org/2000/svg\" height=\"24px\"viewBox=\"0 0 24 24\"\n",
              "       width=\"24px\">\n",
              "    <path d=\"M0 0h24v24H0V0z\" fill=\"none\"/>\n",
              "    <path d=\"M18.56 5.44l.94 2.06.94-2.06 2.06-.94-2.06-.94-.94-2.06-.94 2.06-2.06.94zm-11 1L8.5 8.5l.94-2.06 2.06-.94-2.06-.94L8.5 2.5l-.94 2.06-2.06.94zm10 10l.94 2.06.94-2.06 2.06-.94-2.06-.94-.94-2.06-.94 2.06-2.06.94z\"/><path d=\"M17.41 7.96l-1.37-1.37c-.4-.4-.92-.59-1.43-.59-.52 0-1.04.2-1.43.59L10.3 9.45l-7.72 7.72c-.78.78-.78 2.05 0 2.83L4 21.41c.39.39.9.59 1.41.59.51 0 1.02-.2 1.41-.59l7.78-7.78 2.81-2.81c.8-.78.8-2.07 0-2.86zM5.41 20L4 18.59l7.72-7.72 1.47 1.35L5.41 20z\"/>\n",
              "  </svg>\n",
              "      </button>\n",
              "      \n",
              "  <style>\n",
              "    .colab-df-container {\n",
              "      display:flex;\n",
              "      flex-wrap:wrap;\n",
              "      gap: 12px;\n",
              "    }\n",
              "\n",
              "    .colab-df-convert {\n",
              "      background-color: #E8F0FE;\n",
              "      border: none;\n",
              "      border-radius: 50%;\n",
              "      cursor: pointer;\n",
              "      display: none;\n",
              "      fill: #1967D2;\n",
              "      height: 32px;\n",
              "      padding: 0 0 0 0;\n",
              "      width: 32px;\n",
              "    }\n",
              "\n",
              "    .colab-df-convert:hover {\n",
              "      background-color: #E2EBFA;\n",
              "      box-shadow: 0px 1px 2px rgba(60, 64, 67, 0.3), 0px 1px 3px 1px rgba(60, 64, 67, 0.15);\n",
              "      fill: #174EA6;\n",
              "    }\n",
              "\n",
              "    [theme=dark] .colab-df-convert {\n",
              "      background-color: #3B4455;\n",
              "      fill: #D2E3FC;\n",
              "    }\n",
              "\n",
              "    [theme=dark] .colab-df-convert:hover {\n",
              "      background-color: #434B5C;\n",
              "      box-shadow: 0px 1px 3px 1px rgba(0, 0, 0, 0.15);\n",
              "      filter: drop-shadow(0px 1px 2px rgba(0, 0, 0, 0.3));\n",
              "      fill: #FFFFFF;\n",
              "    }\n",
              "  </style>\n",
              "\n",
              "      <script>\n",
              "        const buttonEl =\n",
              "          document.querySelector('#df-f40243e2-c93b-4929-bc71-938bc084f504 button.colab-df-convert');\n",
              "        buttonEl.style.display =\n",
              "          google.colab.kernel.accessAllowed ? 'block' : 'none';\n",
              "\n",
              "        async function convertToInteractive(key) {\n",
              "          const element = document.querySelector('#df-f40243e2-c93b-4929-bc71-938bc084f504');\n",
              "          const dataTable =\n",
              "            await google.colab.kernel.invokeFunction('convertToInteractive',\n",
              "                                                     [key], {});\n",
              "          if (!dataTable) return;\n",
              "\n",
              "          const docLinkHtml = 'Like what you see? Visit the ' +\n",
              "            '<a target=\"_blank\" href=https://colab.research.google.com/notebooks/data_table.ipynb>data table notebook</a>'\n",
              "            + ' to learn more about interactive tables.';\n",
              "          element.innerHTML = '';\n",
              "          dataTable['output_type'] = 'display_data';\n",
              "          await google.colab.output.renderOutput(dataTable, element);\n",
              "          const docLink = document.createElement('div');\n",
              "          docLink.innerHTML = docLinkHtml;\n",
              "          element.appendChild(docLink);\n",
              "        }\n",
              "      </script>\n",
              "    </div>\n",
              "  </div>\n",
              "  "
            ]
          },
          "metadata": {},
          "execution_count": 27
        }
      ],
      "source": [
        "df=pd.read_json(\"Text.json\")\n",
        "df"
      ]
    },
    {
      "cell_type": "code",
      "source": [
        "df.to_json(\"english_transcript.json\")"
      ],
      "metadata": {
        "id": "gLmrJSLUvl_a"
      },
      "id": "gLmrJSLUvl_a",
      "execution_count": 28,
      "outputs": []
    },
    {
      "cell_type": "code",
      "execution_count": 16,
      "id": "d8646375",
      "metadata": {
        "id": "d8646375"
      },
      "outputs": [],
      "source": [
        "df.to_json(\"hindi_transcript.json\")"
      ]
    },
    {
      "cell_type": "code",
      "source": [
        ""
      ],
      "metadata": {
        "id": "8X-NUXAXiPob"
      },
      "id": "8X-NUXAXiPob",
      "execution_count": null,
      "outputs": []
    }
  ],
  "metadata": {
    "kernelspec": {
      "display_name": "Python 3 (ipykernel)",
      "language": "python",
      "name": "python3"
    },
    "language_info": {
      "codemirror_mode": {
        "name": "ipython",
        "version": 3
      },
      "file_extension": ".py",
      "mimetype": "text/x-python",
      "name": "python",
      "nbconvert_exporter": "python",
      "pygments_lexer": "ipython3",
      "version": "3.9.12"
    },
    "colab": {
      "name": "Copy of MYProject.ipynb",
      "provenance": [],
      "collapsed_sections": []
    },
    "accelerator": "GPU",
    "gpuClass": "standard"
  },
  "nbformat": 4,
  "nbformat_minor": 5
}