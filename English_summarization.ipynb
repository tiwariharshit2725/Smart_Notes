{
 "cells": [
  {
   "cell_type": "code",
   "execution_count": 1,
   "id": "4b903bcd",
   "metadata": {},
   "outputs": [],
   "source": [
    "import numpy as np\n",
    "import pandas as pd"
   ]
  },
  {
   "cell_type": "code",
   "execution_count": 2,
   "id": "b5ce6b9a",
   "metadata": {},
   "outputs": [],
   "source": [
    "!pip install simplet5 -q\n"
   ]
  },
  {
   "cell_type": "code",
   "execution_count": 3,
   "id": "74781c80",
   "metadata": {},
   "outputs": [
    {
     "name": "stderr",
     "output_type": "stream",
     "text": [
      "Global seed set to 42\n"
     ]
    }
   ],
   "source": [
    "from simplet5 import SimpleT5\n"
   ]
  },
  {
   "cell_type": "code",
   "execution_count": 4,
   "id": "8b98cf94",
   "metadata": {},
   "outputs": [],
   "source": [
    "model=SimpleT5()\n",
    "model.from_pretrained(model_type=\"t5\",model_name=\"t5-base\")"
   ]
  },
  {
   "cell_type": "code",
   "execution_count": 5,
   "id": "8fad66f0",
   "metadata": {},
   "outputs": [],
   "source": [
    "model.load_model(\"t5\",r\"C:\\Users\\91854\\OneDrive\\Desktop\\self\\Smart_Notes\\English_trained_model\\content\\outputs\\simplet5-epoch-4-train-loss-0.6031-val-loss-1.197\",use_gpu=False)\n"
   ]
  },
  {
   "cell_type": "code",
   "execution_count": 6,
   "id": "c8d2774c",
   "metadata": {},
   "outputs": [],
   "source": [
    "df=pd.read_json(r\"C:\\Users\\91854\\OneDrive\\Desktop\\self\\Smart_Notes\\English_trained_model\\english_transcript.json\")\n"
   ]
  },
  {
   "cell_type": "code",
   "execution_count": 7,
   "id": "7ecd30fd",
   "metadata": {},
   "outputs": [
    {
     "data": {
      "text/plain": [
       "0                               a murder mystery\n",
       "1                          the load of the manor\n",
       "10        it's just so many words need a process\n",
       "100           that sentence continues to develop\n",
       "101                                     jennifer\n",
       "                         ...                    \n",
       "95                              some information\n",
       "96                                in this states\n",
       "97     martin is most likely to rise to my house\n",
       "98                                for i phone is\n",
       "99                                 i like to run\n",
       "Name: text, Length: 122, dtype: object"
      ]
     },
     "execution_count": 7,
     "metadata": {},
     "output_type": "execute_result"
    }
   ],
   "source": [
    "df=df.rename(columns={0:\"text\"})\n",
    "df=df[\"text\"]\n",
    "df"
   ]
  },
  {
   "cell_type": "code",
   "execution_count": 8,
   "id": "ae510197",
   "metadata": {},
   "outputs": [],
   "source": [
    "l=[]\n",
    "s=\"\"\n",
    "for i in range(len(df)):\n",
    "    if(i%18==0 and i!=0):\n",
    "        s=s+df[i]+\"\\n\"\n",
    "        l.append(s)\n",
    "        s=\"\"\n",
    "        for j in range(4):\n",
    "            s=s+df[i+j-5]+\"\\n\"\n",
    "    s=s+df[i]+\"\\n\""
   ]
  },
  {
   "cell_type": "code",
   "execution_count": 13,
   "id": "23ee3001",
   "metadata": {},
   "outputs": [
    {
     "data": {
      "text/plain": [
       "[\"a murder mystery\\nthe load of the manor\\nand your task is to figure out\\nnight\\nbut\\nyour memory isn't working\\nany of the past the last ten minutes\\nfor the situation your production is can be nothing better than just a random guess\\nmuch of a problem by you can remember every word every conversation has if somebody\\nhe might have trouble\\nit's just so many words need a process\\nmuch better than if you could just remember the memorable\\nand that's where something code\\nlong shot\\nmemory\\ni appreciate it\\nand it\\nyour home work\\nremember the stuff that needs to keep out of context\\n\",\n",
       " \"long shot\\nmemory\\ni appreciate it\\nand it\\nremember the stuff that needs to keep out of context\\noh\\nnow is no longer\\nfor example this sequence\\nwe need a project\\norganized letter in the sequence is going to pay just\\nit's not obvious for the next sequences like we have to\\nfollowing them\\nif we have come back to the time\\nwe can establish contact me\\nreally say my name is and instead of looking letters\\nwords we can establish that the whole sentences that my name is martha\\nno but current year\\nis very and\\nso effectively and is offer\\nthe current\\nand\\ni work in the sense that they have a good\\nand this\\n\",\n",
       " \"is very and\\nso effectively and is offer\\nthe current\\nand\\nand this\\ncoming in\\nfor is and processed in some ways\\nand\\nand and\\nstandard stuff\\nmakes an hour and and it is the fact that is\\nand that means that it\\nout of a given step is provided alongside the\\nso step one\\nit's processed\\nalso\\nthe out for the price that that is what makes and\\nand it's remember previous steps in a sequence\\ncensored\\nmy name i don't have to give back\\nfiguring out what is but\\nsuffer from what's known as long\\nsee problem which is to say that over time as more and more information\\n\",\n",
       " \"and it's remember previous steps in a sequence\\ncensored\\nmy name i don't have to give back\\nfiguring out what is but\\nsee problem which is to say that over time as more and more information\\nthen become less\\neffective learning things\\nas far back for my name\\nyou coming back to an hour's worth of clues\\nlot more information needs to be processed\\np s\\nthree m. provides a salary\\nthis long term the problem\\nand that as something\\nright to the ah and and know\\nnow when an r n n n it is receiving information as well\\nso step out for me\\nprevious step\\nof a nice step and some information from the site\\nwhat is this site\\nwell it's actually a cell\\nwhat's in there\\nand of\\n\",\n",
       " \"previous step\\nof a nice step and some information from the site\\nwhat is this site\\nwell it's actually a cell\\nand of\\nthree parts\\neach part is i forget\\nand\\nokay\\nsays what sort of information stored in this in turn of sight\\nthe it's no longer relevant\\nthe input\\nsays new information should be so uptight this working storage information and the out for kate says\\nof all the information stored in the site which parts that should be in\\nthe instance and these kids can be a number between zero and want\\ni mean\\nnothing and one mean the guy is fun and\\neverything\\nso we can say forget everything or just forget that we can see everything\\njust a little bit\\nfor everything\\nnothing at all processing in\\nnow we have the information\\n\",\n",
       " \"everything\\nso we can say forget everything or just forget that we can see everything\\njust a little bit\\nfor everything\\nnow we have the information\\nadditional context\\nif we think an example\\nmarch\\nis buying\\nsome information\\nin this states\\nmartin is most likely to rise to my house\\nfor i phone is\\ni like to run\\nthat sentence continues to develop\\njennifer\\nchina is at this point we can make some changes\\nso we changed subjects from march and jennifer\\ncare about the smarts and anymore\\nforget that thought i'm a cancer\\ngender jennifer is female\\ninstead and reading that is how we can apply this\\nany sort of series where we have a sequence prediction is required and some long term\\n\"]"
      ]
     },
     "execution_count": 13,
     "metadata": {},
     "output_type": "execute_result"
    }
   ],
   "source": [
    "l"
   ]
  },
  {
   "cell_type": "code",
   "execution_count": 9,
   "id": "59d328b2",
   "metadata": {},
   "outputs": [
    {
     "data": {
      "text/html": [
       "<div>\n",
       "<style scoped>\n",
       "    .dataframe tbody tr th:only-of-type {\n",
       "        vertical-align: middle;\n",
       "    }\n",
       "\n",
       "    .dataframe tbody tr th {\n",
       "        vertical-align: top;\n",
       "    }\n",
       "\n",
       "    .dataframe thead th {\n",
       "        text-align: right;\n",
       "    }\n",
       "</style>\n",
       "<table border=\"1\" class=\"dataframe\">\n",
       "  <thead>\n",
       "    <tr style=\"text-align: right;\">\n",
       "      <th></th>\n",
       "      <th>text</th>\n",
       "    </tr>\n",
       "  </thead>\n",
       "  <tbody>\n",
       "    <tr>\n",
       "      <th>0</th>\n",
       "      <td>summarize:a murder mystery\\nthe load of the ma...</td>\n",
       "    </tr>\n",
       "    <tr>\n",
       "      <th>1</th>\n",
       "      <td>summarize:long shot\\nmemory\\ni appreciate it\\n...</td>\n",
       "    </tr>\n",
       "    <tr>\n",
       "      <th>2</th>\n",
       "      <td>summarize:is very and\\nso effectively and is o...</td>\n",
       "    </tr>\n",
       "    <tr>\n",
       "      <th>3</th>\n",
       "      <td>summarize:and it's remember previous steps in ...</td>\n",
       "    </tr>\n",
       "    <tr>\n",
       "      <th>4</th>\n",
       "      <td>summarize:previous step\\nof a nice step and so...</td>\n",
       "    </tr>\n",
       "    <tr>\n",
       "      <th>5</th>\n",
       "      <td>summarize:everything\\nso we can say forget eve...</td>\n",
       "    </tr>\n",
       "  </tbody>\n",
       "</table>\n",
       "</div>"
      ],
      "text/plain": [
       "                                                text\n",
       "0  summarize:a murder mystery\\nthe load of the ma...\n",
       "1  summarize:long shot\\nmemory\\ni appreciate it\\n...\n",
       "2  summarize:is very and\\nso effectively and is o...\n",
       "3  summarize:and it's remember previous steps in ...\n",
       "4  summarize:previous step\\nof a nice step and so...\n",
       "5  summarize:everything\\nso we can say forget eve..."
      ]
     },
     "execution_count": 9,
     "metadata": {},
     "output_type": "execute_result"
    }
   ],
   "source": [
    "df1=pd.DataFrame(l)\n",
    "df1=df1.rename(columns={0:\"text\"})\n",
    "df1[\"text\"]=\"summarize:\"+df1[\"text\"]\n",
    "for i in df1[\"text\"]:\n",
    "    i.replace(\"\\n\",\"|\")\n",
    "# df1[\"text\"].replace(\"\\n\",\"|\")\n",
    "df1"
   ]
  },
  {
   "cell_type": "code",
   "execution_count": 10,
   "id": "0bc9a128",
   "metadata": {},
   "outputs": [],
   "source": [
    "summary_output=[]\n",
    "for i in df1[\"text\"]:\n",
    "    summary_output=summary_output+model.predict(i)"
   ]
  },
  {
   "cell_type": "code",
   "execution_count": 11,
   "id": "9d14da17",
   "metadata": {},
   "outputs": [
    {
     "data": {
      "text/plain": [
       "['Remember every word in a conversation is a process: Code long shot memory',\n",
       " 'Long shot memory remembers stuff that needs to keep out of context',\n",
       " \"Standard stuff makes an hour, but it's also processed in some ways\",\n",
       " 'Remember previous steps in a sequence censored my name',\n",
       " \"Site is actually a cell and of 3 parts each part is i forget it's not relevant\",\n",
       " 'We can forget everything or just forget that we can see everything']"
      ]
     },
     "execution_count": 11,
     "metadata": {},
     "output_type": "execute_result"
    }
   ],
   "source": [
    "summary_output"
   ]
  },
  {
   "cell_type": "code",
   "execution_count": 12,
   "id": "aea93fcc",
   "metadata": {},
   "outputs": [
    {
     "name": "stdout",
     "output_type": "stream",
     "text": [
      "Remember every word in a conversation is a process: Code long shot memoryLong shot memory remembers stuff that needs to keep out of contextStandard stuff makes an hour, but it's also processed in some waysRemember previous steps in a sequence censored my nameSite is actually a cell and of 3 parts each part is i forget it's not relevantWe can forget everything or just forget that we can see everything\n"
     ]
    }
   ],
   "source": [
    "summary=\"\"\n",
    "for i in summary_output:\n",
    "    summary=summary+i\n",
    "print(summary)"
   ]
  },
  {
   "cell_type": "code",
   "execution_count": null,
   "id": "7adbc521",
   "metadata": {},
   "outputs": [],
   "source": []
  }
 ],
 "metadata": {
  "kernelspec": {
   "display_name": "Python 3 (ipykernel)",
   "language": "python",
   "name": "python3"
  },
  "language_info": {
   "codemirror_mode": {
    "name": "ipython",
    "version": 3
   },
   "file_extension": ".py",
   "mimetype": "text/x-python",
   "name": "python",
   "nbconvert_exporter": "python",
   "pygments_lexer": "ipython3",
   "version": "3.9.12"
  }
 },
 "nbformat": 4,
 "nbformat_minor": 5
}
