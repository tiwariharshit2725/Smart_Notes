{
 "cells": [
  {
   "cell_type": "code",
   "execution_count": 1,
   "id": "4b903bcd",
   "metadata": {},
   "outputs": [],
   "source": [
    "import numpy as np\n",
    "import pandas as pd"
   ]
  },
  {
   "cell_type": "code",
   "execution_count": 2,
   "id": "b5ce6b9a",
   "metadata": {},
   "outputs": [],
   "source": [
    "!pip install simplet5 -q\n"
   ]
  },
  {
   "cell_type": "code",
   "execution_count": 3,
   "id": "74781c80",
   "metadata": {},
   "outputs": [
    {
     "name": "stderr",
     "output_type": "stream",
     "text": [
      "Global seed set to 42\n"
     ]
    }
   ],
   "source": [
    "from simplet5 import SimpleT5\n"
   ]
  },
  {
   "cell_type": "code",
   "execution_count": 4,
   "id": "8b98cf94",
   "metadata": {},
   "outputs": [],
   "source": [
    "model=SimpleT5()\n",
    "model.from_pretrained(model_type=\"t5\",model_name=\"t5-base\")"
   ]
  },
  {
   "cell_type": "code",
   "execution_count": 7,
   "id": "8fad66f0",
   "metadata": {},
   "outputs": [],
   "source": [
    "model.load_model(\"t5\",r\"C:\\Users\\91854\\OneDrive\\Desktop\\self\\Smart_Notes\\hindi_trained_model\\content\\outputs\\simplet5-epoch-4-train-loss-0.4623-val-loss-0.5281\",use_gpu=False)\n"
   ]
  },
  {
   "cell_type": "code",
   "execution_count": 35,
   "id": "c8d2774c",
   "metadata": {},
   "outputs": [],
   "source": [
    "df=pd.read_json(r\"C:\\Users\\91854\\OneDrive\\Desktop\\self\\Smart_Notes\\hindi_trained_model\\hindi_transcript.json\")\n"
   ]
  },
  {
   "cell_type": "code",
   "execution_count": 36,
   "id": "7ecd30fd",
   "metadata": {},
   "outputs": [
    {
     "data": {
      "text/plain": [
       "0                                                       \n",
       "1                                      इस समूह की बात है\n",
       "10     मेरा नहीं राजा का आदेश है जिस पर हम सबको सहमत ...\n",
       "100    क्या कोई पीड़ा सभी होता है जिसकी पति मौके पर र...\n",
       "101    ऐसे पागल आदमी को हम कर वसूली के काम पर नहीं लग...\n",
       "                             ...                        \n",
       "95                     अब लालची कलंदर बड़ा परेशान हो गया\n",
       "96                                              उसने कहा\n",
       "97     महाराज मुझे क्षमा करें इसमें मेरी गलती नहीं है...\n",
       "98     राजा को उसकी बात सुनकर बहुत गुस्सा आया राजा ने...\n",
       "99        यह तो बिल्कुल ही पागलों की तरह बातें कर रहा है\n",
       "Name: text, Length: 140, dtype: object"
      ]
     },
     "execution_count": 36,
     "metadata": {},
     "output_type": "execute_result"
    }
   ],
   "source": [
    "df=df.rename(columns={0:\"text\"})\n",
    "df=df[\"text\"]\n",
    "df"
   ]
  },
  {
   "cell_type": "code",
   "execution_count": 37,
   "id": "ae510197",
   "metadata": {},
   "outputs": [],
   "source": [
    "l=[]\n",
    "s=\"\"\n",
    "for i in range(len(df)):\n",
    "    if(i%18==0 and i!=0):\n",
    "        s=s+df[i]+\"\\n\"\n",
    "        l.append(s)\n",
    "        s=\"\"\n",
    "        for j in range(4):\n",
    "            s=s+df[i+j-5]+\"\\n\"\n",
    "    s=s+df[i]+\"\\n\""
   ]
  },
  {
   "cell_type": "code",
   "execution_count": 54,
   "id": "59d328b2",
   "metadata": {},
   "outputs": [
    {
     "data": {
      "text/html": [
       "<div>\n",
       "<style scoped>\n",
       "    .dataframe tbody tr th:only-of-type {\n",
       "        vertical-align: middle;\n",
       "    }\n",
       "\n",
       "    .dataframe tbody tr th {\n",
       "        vertical-align: top;\n",
       "    }\n",
       "\n",
       "    .dataframe thead th {\n",
       "        text-align: right;\n",
       "    }\n",
       "</style>\n",
       "<table border=\"1\" class=\"dataframe\">\n",
       "  <thead>\n",
       "    <tr style=\"text-align: right;\">\n",
       "      <th></th>\n",
       "      <th>text</th>\n",
       "    </tr>\n",
       "  </thead>\n",
       "  <tbody>\n",
       "    <tr>\n",
       "      <th>0</th>\n",
       "      <td>summarize:\\nइस समूह की बात है\\nबहुत खूबसूरत रा...</td>\n",
       "    </tr>\n",
       "    <tr>\n",
       "      <th>1</th>\n",
       "      <td>summarize:अगर कर नहीं लिया तो अपना घर कैसे करू...</td>\n",
       "    </tr>\n",
       "    <tr>\n",
       "      <th>2</th>\n",
       "      <td>summarize:उसने गांव वाले और अपने पिताजी की बात...</td>\n",
       "    </tr>\n",
       "    <tr>\n",
       "      <th>3</th>\n",
       "      <td>summarize:आदमी पेड़ का नाम सुनकर डर बड़ा खुश ह...</td>\n",
       "    </tr>\n",
       "    <tr>\n",
       "      <th>4</th>\n",
       "      <td>summarize:इससे पहले की दिशांत कुछ कहता लालची क...</td>\n",
       "    </tr>\n",
       "    <tr>\n",
       "      <th>5</th>\n",
       "      <td>summarize:क्योंकि उन्हें डर था कि कहीं वह उनसे...</td>\n",
       "    </tr>\n",
       "    <tr>\n",
       "      <th>6</th>\n",
       "      <td>summarize:हर इसके बाद लालची कैलेंडर सारी जिंदग...</td>\n",
       "    </tr>\n",
       "  </tbody>\n",
       "</table>\n",
       "</div>"
      ],
      "text/plain": [
       "                                                text\n",
       "0  summarize:\\nइस समूह की बात है\\nबहुत खूबसूरत रा...\n",
       "1  summarize:अगर कर नहीं लिया तो अपना घर कैसे करू...\n",
       "2  summarize:उसने गांव वाले और अपने पिताजी की बात...\n",
       "3  summarize:आदमी पेड़ का नाम सुनकर डर बड़ा खुश ह...\n",
       "4  summarize:इससे पहले की दिशांत कुछ कहता लालची क...\n",
       "5  summarize:क्योंकि उन्हें डर था कि कहीं वह उनसे...\n",
       "6  summarize:हर इसके बाद लालची कैलेंडर सारी जिंदग..."
      ]
     },
     "execution_count": 54,
     "metadata": {},
     "output_type": "execute_result"
    }
   ],
   "source": [
    "df1=pd.DataFrame(l)\n",
    "df1=df1.rename(columns={0:\"text\"})\n",
    "df1[\"text\"]=\"summarize:\"+df1[\"text\"]\n",
    "for i in df1[\"text\"]:\n",
    "    i.replace(\"\\n\",\"|\")\n",
    "# df1[\"text\"].replace(\"\\n\",\"|\")\n",
    "df1"
   ]
  },
  {
   "cell_type": "code",
   "execution_count": 55,
   "id": "0bc9a128",
   "metadata": {},
   "outputs": [],
   "source": [
    "summary_output=[]\n",
    "for i in df1[\"text\"]:\n",
    "    summary_output=summary_output+model.predict(i)"
   ]
  },
  {
   "cell_type": "code",
   "execution_count": 57,
   "id": "9d14da17",
   "metadata": {},
   "outputs": [
    {
     "data": {
      "text/plain": [
       "['           ',\n",
       " '           ',\n",
       " '           ',\n",
       " '           ',\n",
       " '           ',\n",
       " '           ',\n",
       " '           ']"
      ]
     },
     "execution_count": 57,
     "metadata": {},
     "output_type": "execute_result"
    }
   ],
   "source": [
    "summary_output"
   ]
  },
  {
   "cell_type": "code",
   "execution_count": 58,
   "id": "aea93fcc",
   "metadata": {},
   "outputs": [
    {
     "name": "stdout",
     "output_type": "stream",
     "text": [
      "                                                                             \n"
     ]
    }
   ],
   "source": [
    "summary=\"\"\n",
    "for i in summary_output:\n",
    "    summary=summary+i\n",
    "print(summary)"
   ]
  },
  {
   "cell_type": "code",
   "execution_count": 27,
   "id": "7adbc521",
   "metadata": {},
   "outputs": [
    {
     "data": {
      "text/plain": [
       "'                                                                  '"
      ]
     },
     "execution_count": 27,
     "metadata": {},
     "output_type": "execute_result"
    }
   ],
   "source": []
  }
 ],
 "metadata": {
  "kernelspec": {
   "display_name": "Python 3 (ipykernel)",
   "language": "python",
   "name": "python3"
  },
  "language_info": {
   "codemirror_mode": {
    "name": "ipython",
    "version": 3
   },
   "file_extension": ".py",
   "mimetype": "text/x-python",
   "name": "python",
   "nbconvert_exporter": "python",
   "pygments_lexer": "ipython3",
   "version": "3.9.12"
  }
 },
 "nbformat": 4,
 "nbformat_minor": 5
}
